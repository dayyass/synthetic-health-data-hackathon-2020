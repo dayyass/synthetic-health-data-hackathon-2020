{
 "cells": [
  {
   "cell_type": "markdown",
   "metadata": {},
   "source": [
    "# Alzheimer MRI images data notebook \n",
    "by Martin Closter Jespersen from Deloitte Consulting\n",
    "\n",
    "## About the data \n",
    "The data was generated from a real patient cohort of MRI images both with and without alzheimer. The real images are in the dimension of 128x128 and consists of the following distribution (i.e. real distribution):\n",
    "- 2560 Non alzheimer\n",
    "- 1792 Very mild alzheimer \n",
    "- 717  Mild alzheimer\n",
    "- 52   Moderate alzheimer\n",
    "\n",
    "You are provided an evenly distributed synthetic dataset of ~3000 128x128 synthetic MRI images of each class. \n",
    "\n",
    "The data was generated using a simple (non state-of-the-art) <b>Conditional Generative Adversial Network (cGAN)</b>. cGANs are generally data hungry and considering this small dataset with great class imbalance, the data quality can be <u><b>limited</b></u>. Though image applications of machine learning has developed far, creating diverse synthetic images is still the main bottleneck. More sophisticated methods have improved this substantially but was not used here due to time and dataset size.\n",
    "\n",
    "Reading material:\n",
    "* Analysis of using GANs to replace real biomedical images in classification https://arxiv.org/pdf/1904.08688.pdf\n",
    "* Synthetic COVID X ray images https://arxiv.org/pdf/2009.12478.pdf\n",
    "* Synthetizing chest X ray images for model development https://www.researchgate.net/publication/328945795_Synthesizing_Chest_X-Ray_Pathology_for_Training_Deep_Convolutional_Neural_Networks\n",
    "\n",
    "\n",
    "Investigate how the data can be useful!  "
   ]
  },
  {
   "cell_type": "markdown",
   "metadata": {},
   "source": [
    "## Possible challenges\n",
    "- Can you train a model on synthetic data to predict alzheimers on real data (binary = No alzheimer or not)\n",
    "    - Easiest task of prediction\n",
    "    - Play with best distribution / synthetic data size needed (most likely a small subsample is sufficient). \n",
    "    - Removing redundancy (too similar images) might be needed  (https://github.com/JohannesBuchner/imagehash)\n",
    "    - Does the performance on real data increase if training only using synthetic data a subset of the alzheimer classes (i.e. leave out less frequent ones)?\n",
    "- How well does the synthetic data behave on each class on the real data?\n",
    "    - More complicated task of prediction\n",
    "- How does a model trained on the real data behave on the synthetic data?\n",
    "    - This can be useful if one wants to scale a model to new country and want to evaluate if it would succeed\n",
    "- Do the model trained on real and synthetic data behave similarly? \n",
    "    - I.e. do they predict same targets the same classes, or do they use the same part of the images to classify (Grad-CAM or similar method)\n",
    "- Can you improve the model trained on real data by augmenting it with synthetic data in the training?\n",
    "- Explore and compare the real and synthetic data\n",
    "    - Average pixel of each separate class or other create ideas?\n",
    "- Can you build a model which can predict real from synthetic images, and if so can you understand why it can differentiate?"
   ]
  },
  {
   "cell_type": "markdown",
   "metadata": {},
   "source": [
    "### import libraries"
   ]
  },
  {
   "cell_type": "code",
   "execution_count": null,
   "metadata": {},
   "outputs": [],
   "source": [
    "%load_ext autoreload\n",
    "%autoreload 2"
   ]
  },
  {
   "cell_type": "code",
   "execution_count": null,
   "metadata": {},
   "outputs": [],
   "source": [
    "import os\n",
    "import numpy as np\n",
    "from PIL import Image\n",
    "from collections import Counter\n",
    "import matplotlib.pyplot as plt\n",
    "from sklearn.model_selection import train_test_split"
   ]
  },
  {
   "cell_type": "code",
   "execution_count": null,
   "metadata": {},
   "outputs": [],
   "source": [
    "import torch\n",
    "import torch.nn as nn\n",
    "import torch.optim as optim\n",
    "import torch.nn.functional as F\n",
    "from torchvision import transforms\n",
    "from torch.utils.data import DataLoader, random_split"
   ]
  },
  {
   "cell_type": "code",
   "execution_count": null,
   "metadata": {},
   "outputs": [],
   "source": [
    "from utils import load_images, set_global_seed\n",
    "from dataset import MRIDataset, Unsqueeze, Repeat\n",
    "from train import train, validate_epoch, metrics_callback\n",
    "from convnet import ConvDropoutNet, ConvBatchNormNet, make_resnet18, make_pretrained_resnet18"
   ]
  },
  {
   "cell_type": "code",
   "execution_count": null,
   "metadata": {},
   "outputs": [],
   "source": [
    "device = torch.device('cuda' if torch.cuda.is_available() else 'cpu')\n",
    "device"
   ]
  },
  {
   "cell_type": "code",
   "execution_count": null,
   "metadata": {},
   "outputs": [],
   "source": [
    "set_global_seed(42)"
   ]
  },
  {
   "cell_type": "markdown",
   "metadata": {},
   "source": [
    "### loading in the images"
   ]
  },
  {
   "cell_type": "code",
   "execution_count": null,
   "metadata": {},
   "outputs": [],
   "source": [
    "# load images\n",
    "synth_images, synth_labels = load_images('data/SyntheticDataset', verbose=True)\n",
    "real_images, real_labels = load_images('data/RealDataset', verbose=True)\n",
    "real_final_images, real_final_labels = load_images('data/RealTestDataset', verbose=True)"
   ]
  },
  {
   "cell_type": "code",
   "execution_count": null,
   "metadata": {},
   "outputs": [],
   "source": [
    "# print shapes\n",
    "print(f'synth_images shape: {synth_images.shape}')\n",
    "print(f'synth_labels shape: {synth_labels.shape}')\n",
    "print()\n",
    "print(f'real_images shape: {real_images.shape}')\n",
    "print(f'real_labels shape: {real_labels.shape}')\n",
    "print()\n",
    "print(f'real_final_images shape: {real_final_images.shape}')\n",
    "print(f'real_final_labels shape: {real_final_labels.shape}')"
   ]
  },
  {
   "cell_type": "code",
   "execution_count": null,
   "metadata": {},
   "outputs": [],
   "source": [
    "# print labels distribution\n",
    "print(f'synth_labels: {Counter(synth_labels)}')\n",
    "print(f'real_labels: {Counter(real_labels)}')\n",
    "print(f'real_final_labels: {Counter(real_final_labels)}')"
   ]
  },
  {
   "cell_type": "code",
   "execution_count": null,
   "metadata": {},
   "outputs": [],
   "source": [
    "# binary classification\n",
    "synth_labels = np.clip(synth_labels, 0, 1)\n",
    "real_labels = np.clip(real_labels, 0, 1)\n",
    "real_final_labels = np.clip(real_final_labels, 0, 1)"
   ]
  },
  {
   "cell_type": "code",
   "execution_count": null,
   "metadata": {},
   "outputs": [],
   "source": [
    "# print labels distribution after binary classification\n",
    "print(f'synth_labels: {Counter(synth_labels)}')\n",
    "print(f'real_labels: {Counter(real_labels)}')\n",
    "print(f'real_final_labels: {Counter(real_final_labels)}')"
   ]
  },
  {
   "cell_type": "markdown",
   "metadata": {},
   "source": [
    "### dataset and dataloader"
   ]
  },
  {
   "cell_type": "code",
   "execution_count": null,
   "metadata": {},
   "outputs": [],
   "source": [
    "# train/test split\n",
    "synth_train_img, synth_test_img, synth_train_label, synth_test_label = train_test_split(\n",
    "    synth_images, synth_labels, test_size=0.20, random_state=42,\n",
    ")\n",
    "real_train_img, real_test_img, real_train_label, real_test_label = train_test_split(\n",
    "    real_images, real_labels, test_size=0.20, random_state=42,\n",
    ")"
   ]
  },
  {
   "cell_type": "code",
   "execution_count": null,
   "metadata": {},
   "outputs": [],
   "source": [
    "# image transformation\n",
    "transform = transforms.Compose([\n",
    "    Unsqueeze(axis=-1),\n",
    "    Repeat(n_channel=3, axis=-1),\n",
    "    transforms.ToTensor(),\n",
    "])"
   ]
  },
  {
   "cell_type": "code",
   "execution_count": null,
   "metadata": {},
   "outputs": [],
   "source": [
    "# make datasets\n",
    "\n",
    "# synthetic\n",
    "synth_train_dataset = MRIDataset(\n",
    "    images=synth_train_img,\n",
    "    labels=synth_train_label,\n",
    "    transform=transform,\n",
    ")\n",
    "synth_test_dataset = MRIDataset(\n",
    "    images=synth_test_img,\n",
    "    labels=synth_test_label,\n",
    "    transform=transform,\n",
    ")\n",
    "\n",
    "# real\n",
    "real_train_dataset = MRIDataset(\n",
    "    images=real_train_img,\n",
    "    labels=real_train_label,\n",
    "    transform=transform,\n",
    ")\n",
    "real_test_dataset = MRIDataset(\n",
    "    images=real_test_img,\n",
    "    labels=real_test_label,\n",
    "    transform=transform,\n",
    ")\n",
    "\n",
    "# real_final\n",
    "real_final_dataset = MRIDataset(\n",
    "    images=real_final_images,\n",
    "    labels=real_labels,\n",
    "    transform=transform,\n",
    ")"
   ]
  },
  {
   "cell_type": "code",
   "execution_count": null,
   "metadata": {},
   "outputs": [],
   "source": [
    "# make dataloaders\n",
    "\n",
    "# synthetic\n",
    "synth_train_loader = DataLoader(\n",
    "    synth_train_dataset,\n",
    "    batch_size=64,\n",
    "    shuffle=True,\n",
    ")\n",
    "synth_test_loader = DataLoader(\n",
    "    synth_test_dataset,\n",
    "    batch_size=64,\n",
    "    shuffle=False,\n",
    ")\n",
    "\n",
    "# real\n",
    "real_train_loader = DataLoader(\n",
    "    real_train_dataset,\n",
    "    batch_size=64,\n",
    "    shuffle=True,\n",
    ")\n",
    "real_test_loader = DataLoader(\n",
    "    real_test_dataset,\n",
    "    batch_size=64,\n",
    "    shuffle=False,\n",
    ")\n",
    "\n",
    "# real_final\n",
    "real_final_loader = DataLoader(\n",
    "    real_final_dataset,\n",
    "    batch_size=1,\n",
    "    shuffle=False,\n",
    ")"
   ]
  },
  {
   "cell_type": "markdown",
   "metadata": {},
   "source": [
    "### synthetic vs synthetic"
   ]
  },
  {
   "cell_type": "code",
   "execution_count": null,
   "metadata": {},
   "outputs": [],
   "source": [
    "model = ConvDropoutNet(in_channels=3, n_classes=2).to(device)"
   ]
  },
  {
   "cell_type": "code",
   "execution_count": null,
   "metadata": {
    "scrolled": true
   },
   "outputs": [],
   "source": [
    "print(f'num of params: {sum(p.numel() for p in model.parameters())}')"
   ]
  },
  {
   "cell_type": "code",
   "execution_count": null,
   "metadata": {},
   "outputs": [],
   "source": [
    "criterion = nn.CrossEntropyLoss()\n",
    "optimizer = optim.Adam(model.parameters(), lr=1e-3)"
   ]
  },
  {
   "cell_type": "code",
   "execution_count": null,
   "metadata": {
    "scrolled": true
   },
   "outputs": [],
   "source": [
    "train(\n",
    "    model=model,\n",
    "    trainloader=synth_train_loader,\n",
    "    valloader=synth_test_loader,\n",
    "    criterion=criterion,\n",
    "    optimizer=optimizer,\n",
    "    device=device,\n",
    "    n_epochs=10,\n",
    "    verbose=False,\n",
    ")"
   ]
  },
  {
   "cell_type": "code",
   "execution_count": null,
   "metadata": {},
   "outputs": [],
   "source": [
    "# save model\n",
    "torch.save(model.state_dict(), 'models/synthetic_model.pth')"
   ]
  },
  {
   "cell_type": "markdown",
   "metadata": {},
   "source": [
    "### real vs real"
   ]
  },
  {
   "cell_type": "code",
   "execution_count": null,
   "metadata": {},
   "outputs": [],
   "source": [
    "model = make_resnet18(num_classes=2).to(device)"
   ]
  },
  {
   "cell_type": "code",
   "execution_count": null,
   "metadata": {},
   "outputs": [],
   "source": [
    "print(f'num of params: {sum(p.numel() for p in model.parameters())}')"
   ]
  },
  {
   "cell_type": "code",
   "execution_count": null,
   "metadata": {},
   "outputs": [],
   "source": [
    "criterion = nn.CrossEntropyLoss()\n",
    "optimizer = optim.Adam(model.parameters(), lr=1e-3)"
   ]
  },
  {
   "cell_type": "code",
   "execution_count": null,
   "metadata": {},
   "outputs": [],
   "source": [
    "train(\n",
    "    model=model,\n",
    "    trainloader=real_train_loader,\n",
    "    valloader=real_test_loader,\n",
    "    criterion=criterion,\n",
    "    optimizer=optimizer,\n",
    "    device=device,\n",
    "    n_epochs=10,\n",
    "    verbose=False,\n",
    ")"
   ]
  },
  {
   "cell_type": "code",
   "execution_count": null,
   "metadata": {},
   "outputs": [],
   "source": [
    "# save model\n",
    "torch.save(model.state_dict(), 'models/real_model.pth')"
   ]
  },
  {
   "cell_type": "markdown",
   "metadata": {},
   "source": [
    "### synthetic vs real"
   ]
  },
  {
   "cell_type": "code",
   "execution_count": null,
   "metadata": {},
   "outputs": [],
   "source": [
    "model = make_resnet18(num_classes=2).to(device)"
   ]
  },
  {
   "cell_type": "code",
   "execution_count": null,
   "metadata": {},
   "outputs": [],
   "source": [
    "print(f'num of params: {sum(p.numel() for p in model.parameters())}')"
   ]
  },
  {
   "cell_type": "code",
   "execution_count": null,
   "metadata": {},
   "outputs": [],
   "source": [
    "criterion = nn.CrossEntropyLoss()\n",
    "optimizer = optim.Adam(model.parameters(), lr=1e-3)"
   ]
  },
  {
   "cell_type": "code",
   "execution_count": null,
   "metadata": {},
   "outputs": [],
   "source": [
    "train(\n",
    "    model=model,\n",
    "    trainloader=synth_train_loader,\n",
    "    valloader=real_train_loader,\n",
    "    criterion=criterion,\n",
    "    optimizer=optimizer,\n",
    "    device=device,\n",
    "    n_epochs=5,\n",
    "    verbose=True,\n",
    ")"
   ]
  },
  {
   "cell_type": "code",
   "execution_count": null,
   "metadata": {},
   "outputs": [],
   "source": [
    "metrics = validate_epoch(\n",
    "    model=model,\n",
    "    dataloader=real_final_loader,\n",
    "    criterion=criterion,\n",
    "    device=device,\n",
    ")\n",
    "accuracy, report = metrics_callback(metrics=metrics)"
   ]
  },
  {
   "cell_type": "code",
   "execution_count": null,
   "metadata": {},
   "outputs": [],
   "source": [
    "# final metrics\n",
    "print(f'accuracy: {accuracy:.4f}\\n')\n",
    "print(f'metrics:\\n{report}\\n')"
   ]
  },
  {
   "cell_type": "markdown",
   "metadata": {},
   "source": [
    "### adversarial validation"
   ]
  },
  {
   "cell_type": "code",
   "execution_count": null,
   "metadata": {},
   "outputs": [],
   "source": [
    "# concal all data (synthetic: 0, real: 1)\n",
    "all_images = np.concatenate([synth_images, real_images])\n",
    "all_labels = np.concatenate([np.zeros(len(synth_images)), np.ones(len(real_images))]).astype(np.int64)"
   ]
  },
  {
   "cell_type": "code",
   "execution_count": null,
   "metadata": {},
   "outputs": [],
   "source": [
    "adv_val_dataset = MRIDataset(\n",
    "    images=all_images,\n",
    "    labels=all_labels,\n",
    "    transform=transform,\n",
    ")"
   ]
  },
  {
   "cell_type": "code",
   "execution_count": null,
   "metadata": {},
   "outputs": [],
   "source": [
    "train_len = int(len(adv_val_dataset) * 0.8)\n",
    "val_len = len(adv_val_dataset) - train_len"
   ]
  },
  {
   "cell_type": "code",
   "execution_count": null,
   "metadata": {},
   "outputs": [],
   "source": [
    "adv_val_train_dataset, adv_val_test_dataset = random_split(\n",
    "    dataset=adv_val_dataset,\n",
    "    lengths=[train_len, val_len],\n",
    ")"
   ]
  },
  {
   "cell_type": "code",
   "execution_count": null,
   "metadata": {},
   "outputs": [],
   "source": [
    "adv_val_train_loader = DataLoader(\n",
    "    adv_val_train_dataset,\n",
    "    batch_size=64,\n",
    "    shuffle=True,\n",
    ")\n",
    "adv_val_test_loader = DataLoader(\n",
    "    adv_val_test_dataset,\n",
    "    batch_size=64,\n",
    "    shuffle=False,\n",
    ")"
   ]
  },
  {
   "cell_type": "code",
   "execution_count": null,
   "metadata": {},
   "outputs": [],
   "source": [
    "model = ConvDropoutNet(in_channels=3, n_classes=2).to(device)"
   ]
  },
  {
   "cell_type": "code",
   "execution_count": null,
   "metadata": {
    "scrolled": true
   },
   "outputs": [],
   "source": [
    "print(f'num of params: {sum(p.numel() for p in model.parameters())}')"
   ]
  },
  {
   "cell_type": "code",
   "execution_count": null,
   "metadata": {},
   "outputs": [],
   "source": [
    "criterion = nn.CrossEntropyLoss()\n",
    "optimizer = optim.Adam(model.parameters(), lr=1e-3)"
   ]
  },
  {
   "cell_type": "code",
   "execution_count": null,
   "metadata": {
    "scrolled": true
   },
   "outputs": [],
   "source": [
    "train(\n",
    "    model=model,\n",
    "    trainloader=adv_val_train_loader,\n",
    "    valloader=adv_val_test_loader,\n",
    "    criterion=criterion,\n",
    "    optimizer=optimizer,\n",
    "    device=device,\n",
    "    n_epochs=2,\n",
    "    verbose=False,\n",
    ")"
   ]
  },
  {
   "cell_type": "markdown",
   "metadata": {},
   "source": [
    "### filter bad images"
   ]
  },
  {
   "cell_type": "code",
   "execution_count": null,
   "metadata": {},
   "outputs": [],
   "source": [
    "synth_dataset = MRIDataset(\n",
    "    images=synth_images,\n",
    "    labels=synth_labels,\n",
    "    transform=transform,\n",
    ")\n",
    "real_dataset = MRIDataset(\n",
    "    images=real_images,\n",
    "    labels=real_labels,\n",
    "    transform=transform,\n",
    ")"
   ]
  },
  {
   "cell_type": "code",
   "execution_count": null,
   "metadata": {},
   "outputs": [],
   "source": [
    "# get image scores\n",
    "scores = []\n",
    "for img, _ in synth_dataset:\n",
    "    with torch.no_grad():\n",
    "        img = img.unsqueeze(0).to(device)\n",
    "        score = torch.softmax(model(img), dim=1)[0][1].item()\n",
    "    scores.append(score)"
   ]
  },
  {
   "cell_type": "code",
   "execution_count": null,
   "metadata": {},
   "outputs": [],
   "source": [
    "print(f'most synthetic image probability: {np.min(scores)}')\n",
    "print(f'least synthetic image probability: {np.max(scores)}')"
   ]
  },
  {
   "cell_type": "code",
   "execution_count": null,
   "metadata": {},
   "outputs": [],
   "source": [
    "# filter bad images\n",
    "indices = np.argsort(scores)[-6000:]\n",
    "\n",
    "good_synth_images = synth_images[indices]\n",
    "good_synth_labels = synth_labels[indices]"
   ]
  },
  {
   "cell_type": "code",
   "execution_count": null,
   "metadata": {},
   "outputs": [],
   "source": [
    "print(f'good_synth_labels: {Counter(good_synth_labels)}')"
   ]
  },
  {
   "cell_type": "code",
   "execution_count": null,
   "metadata": {},
   "outputs": [],
   "source": [
    "good_synth_dataset = MRIDataset(\n",
    "    images=good_synth_images,\n",
    "    labels=good_synth_labels,\n",
    "    transform=transform,\n",
    ")"
   ]
  },
  {
   "cell_type": "code",
   "execution_count": null,
   "metadata": {},
   "outputs": [],
   "source": [
    "good_synth_loader = DataLoader(\n",
    "    good_synth_dataset,\n",
    "    batch_size=64,\n",
    "    shuffle=True,\n",
    ")"
   ]
  },
  {
   "cell_type": "markdown",
   "metadata": {},
   "source": [
    "### synthetic vs real v2.0"
   ]
  },
  {
   "cell_type": "code",
   "execution_count": null,
   "metadata": {},
   "outputs": [],
   "source": [
    "model = make_resnet18(num_classes=2).to(device)"
   ]
  },
  {
   "cell_type": "code",
   "execution_count": null,
   "metadata": {},
   "outputs": [],
   "source": [
    "print(f'num of params: {sum(p.numel() for p in model.parameters())}')"
   ]
  },
  {
   "cell_type": "code",
   "execution_count": null,
   "metadata": {},
   "outputs": [],
   "source": [
    "criterion = nn.CrossEntropyLoss()\n",
    "optimizer = optim.Adam(model.parameters(), lr=1e-3)"
   ]
  },
  {
   "cell_type": "code",
   "execution_count": null,
   "metadata": {},
   "outputs": [],
   "source": [
    "train(\n",
    "    model=model,\n",
    "    trainloader=good_synth_loader,\n",
    "    valloader=real_train_loader,\n",
    "    criterion=criterion,\n",
    "    optimizer=optimizer,\n",
    "    device=device,\n",
    "    n_epochs=5,\n",
    "    verbose=True,\n",
    ")"
   ]
  },
  {
   "cell_type": "code",
   "execution_count": null,
   "metadata": {},
   "outputs": [],
   "source": [
    "metrics = validate_epoch(\n",
    "    model=model,\n",
    "    dataloader=real_final_loader,\n",
    "    criterion=criterion,\n",
    "    device=device,\n",
    ")\n",
    "accuracy, report = metrics_callback(metrics=metrics)"
   ]
  },
  {
   "cell_type": "code",
   "execution_count": null,
   "metadata": {},
   "outputs": [],
   "source": [
    "# final metrics\n",
    "print(f'accuracy: {accuracy:.4f}\\n')\n",
    "print(f'metrics:\\n{report}\\n')"
   ]
  },
  {
   "cell_type": "code",
   "execution_count": null,
   "metadata": {},
   "outputs": [],
   "source": []
  }
 ],
 "metadata": {
  "kernelspec": {
   "display_name": "Python 3",
   "language": "python",
   "name": "python3"
  },
  "language_info": {
   "codemirror_mode": {
    "name": "ipython",
    "version": 3
   },
   "file_extension": ".py",
   "mimetype": "text/x-python",
   "name": "python",
   "nbconvert_exporter": "python",
   "pygments_lexer": "ipython3",
   "version": "3.7.9"
  }
 },
 "nbformat": 4,
 "nbformat_minor": 4
}
